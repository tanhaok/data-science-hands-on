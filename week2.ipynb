{
 "cells": [
  {
   "cell_type": "markdown",
   "metadata": {},
   "source": [
    "<img src=\"https://cf-courses-data.s3.us.cloud-object-storage.appdomain.cloud/IBMDeveloperSkillsNetwork-DS0103EN-SkillsNetwork/labs/Module%203/images/flowchart_data_understanding.png\" width=\"500\">"
   ]
  },
  {
   "cell_type": "code",
   "execution_count": 5,
   "metadata": {
    "ExecuteTime": {
     "end_time": "2024-03-08T08:42:37.374617Z",
     "start_time": "2024-03-08T08:42:34.677368Z"
    }
   },
   "outputs": [],
   "source": [
    "# Run script to create virtual environment for the whole app in this folder\n",
    "# This script is for Linux \n",
    "# Only run this cell for first time\n",
    "!python3 -m venv .venv\n",
    "!source  .venv/bin/activate"
   ]
  },
  {
   "cell_type": "code",
   "outputs": [
    {
     "name": "stdout",
     "output_type": "stream",
     "text": [
      "Defaulting to user installation because normal site-packages is not writeable\r\n",
      "Collecting pandas\r\n",
      "  Using cached pandas-2.2.1-cp310-cp310-manylinux_2_17_x86_64.manylinux2014_x86_64.whl (13.0 MB)\r\n",
      "Collecting numpy\r\n",
      "  Using cached numpy-1.26.4-cp310-cp310-manylinux_2_17_x86_64.manylinux2014_x86_64.whl (18.2 MB)\r\n",
      "Requirement already satisfied: pytz>=2020.1 in /usr/lib/python3/dist-packages (from pandas) (2022.1)\r\n",
      "Collecting tzdata>=2022.7\r\n",
      "  Using cached tzdata-2024.1-py2.py3-none-any.whl (345 kB)\r\n",
      "Requirement already satisfied: python-dateutil>=2.8.2 in /usr/local/lib/python3.10/dist-packages (from pandas) (2.9.0.post0)\r\n",
      "Requirement already satisfied: six>=1.5 in /usr/lib/python3/dist-packages (from python-dateutil>=2.8.2->pandas) (1.16.0)\r\n",
      "Installing collected packages: tzdata, numpy, pandas\r\n",
      "Successfully installed numpy-1.26.4 pandas-2.2.1 tzdata-2024.1\r\n"
     ]
    }
   ],
   "source": [
    "!pip install pandas numpy"
   ],
   "metadata": {
    "collapsed": false,
    "ExecuteTime": {
     "end_time": "2024-03-08T08:45:56.528804Z",
     "start_time": "2024-03-08T08:45:48.593175Z"
    }
   },
   "execution_count": 7
  },
  {
   "cell_type": "code",
   "outputs": [],
   "source": [
    "import pandas as pd # import library to read dara into dataframe\n",
    "import numpy as np \n",
    "import re # import library for regular expression\n",
    "import random"
   ],
   "metadata": {
    "collapsed": false,
    "ExecuteTime": {
     "end_time": "2024-03-08T08:55:52.622574Z",
     "start_time": "2024-03-08T08:55:52.259222Z"
    }
   },
   "execution_count": 7
  },
  {
   "cell_type": "code",
   "outputs": [],
   "source": [
    "# configuration\n",
    "pd.set_option('display.max_columns', None)"
   ],
   "metadata": {
    "collapsed": false
   }
  },
  {
   "cell_type": "code",
   "outputs": [
    {
     "data": {
      "text/plain": "      country almond angelica anise anise_seed apple apple_brandy apricot  \\\n0  Vietnamese     No       No    No         No    No           No      No   \n1  Vietnamese     No       No    No         No    No           No      No   \n2  Vietnamese     No       No    No         No    No           No      No   \n3  Vietnamese     No       No    No         No    No           No      No   \n4  Vietnamese     No       No    No         No    No           No      No   \n\n  armagnac artemisia  ... whiskey white_bread white_wine  \\\n0       No        No  ...      No          No         No   \n1       No        No  ...      No          No         No   \n2       No        No  ...      No          No         No   \n3       No        No  ...      No          No         No   \n4       No        No  ...      No          No         No   \n\n  whole_grain_wheat_flour wine wood yam yeast yogurt zucchini  \n0                      No   No   No  No    No     No       No  \n1                      No   No   No  No    No     No       No  \n2                      No   No   No  No    No     No       No  \n3                      No   No   No  No    No     No       No  \n4                      No   No   No  No    No     No       No  \n\n[5 rows x 384 columns]",
      "text/html": "<div>\n<style scoped>\n    .dataframe tbody tr th:only-of-type {\n        vertical-align: middle;\n    }\n\n    .dataframe tbody tr th {\n        vertical-align: top;\n    }\n\n    .dataframe thead th {\n        text-align: right;\n    }\n</style>\n<table border=\"1\" class=\"dataframe\">\n  <thead>\n    <tr style=\"text-align: right;\">\n      <th></th>\n      <th>country</th>\n      <th>almond</th>\n      <th>angelica</th>\n      <th>anise</th>\n      <th>anise_seed</th>\n      <th>apple</th>\n      <th>apple_brandy</th>\n      <th>apricot</th>\n      <th>armagnac</th>\n      <th>artemisia</th>\n      <th>...</th>\n      <th>whiskey</th>\n      <th>white_bread</th>\n      <th>white_wine</th>\n      <th>whole_grain_wheat_flour</th>\n      <th>wine</th>\n      <th>wood</th>\n      <th>yam</th>\n      <th>yeast</th>\n      <th>yogurt</th>\n      <th>zucchini</th>\n    </tr>\n  </thead>\n  <tbody>\n    <tr>\n      <th>0</th>\n      <td>Vietnamese</td>\n      <td>No</td>\n      <td>No</td>\n      <td>No</td>\n      <td>No</td>\n      <td>No</td>\n      <td>No</td>\n      <td>No</td>\n      <td>No</td>\n      <td>No</td>\n      <td>...</td>\n      <td>No</td>\n      <td>No</td>\n      <td>No</td>\n      <td>No</td>\n      <td>No</td>\n      <td>No</td>\n      <td>No</td>\n      <td>No</td>\n      <td>No</td>\n      <td>No</td>\n    </tr>\n    <tr>\n      <th>1</th>\n      <td>Vietnamese</td>\n      <td>No</td>\n      <td>No</td>\n      <td>No</td>\n      <td>No</td>\n      <td>No</td>\n      <td>No</td>\n      <td>No</td>\n      <td>No</td>\n      <td>No</td>\n      <td>...</td>\n      <td>No</td>\n      <td>No</td>\n      <td>No</td>\n      <td>No</td>\n      <td>No</td>\n      <td>No</td>\n      <td>No</td>\n      <td>No</td>\n      <td>No</td>\n      <td>No</td>\n    </tr>\n    <tr>\n      <th>2</th>\n      <td>Vietnamese</td>\n      <td>No</td>\n      <td>No</td>\n      <td>No</td>\n      <td>No</td>\n      <td>No</td>\n      <td>No</td>\n      <td>No</td>\n      <td>No</td>\n      <td>No</td>\n      <td>...</td>\n      <td>No</td>\n      <td>No</td>\n      <td>No</td>\n      <td>No</td>\n      <td>No</td>\n      <td>No</td>\n      <td>No</td>\n      <td>No</td>\n      <td>No</td>\n      <td>No</td>\n    </tr>\n    <tr>\n      <th>3</th>\n      <td>Vietnamese</td>\n      <td>No</td>\n      <td>No</td>\n      <td>No</td>\n      <td>No</td>\n      <td>No</td>\n      <td>No</td>\n      <td>No</td>\n      <td>No</td>\n      <td>No</td>\n      <td>...</td>\n      <td>No</td>\n      <td>No</td>\n      <td>No</td>\n      <td>No</td>\n      <td>No</td>\n      <td>No</td>\n      <td>No</td>\n      <td>No</td>\n      <td>No</td>\n      <td>No</td>\n    </tr>\n    <tr>\n      <th>4</th>\n      <td>Vietnamese</td>\n      <td>No</td>\n      <td>No</td>\n      <td>No</td>\n      <td>No</td>\n      <td>No</td>\n      <td>No</td>\n      <td>No</td>\n      <td>No</td>\n      <td>No</td>\n      <td>...</td>\n      <td>No</td>\n      <td>No</td>\n      <td>No</td>\n      <td>No</td>\n      <td>No</td>\n      <td>No</td>\n      <td>No</td>\n      <td>No</td>\n      <td>No</td>\n      <td>No</td>\n    </tr>\n  </tbody>\n</table>\n<p>5 rows × 384 columns</p>\n</div>"
     },
     "execution_count": 8,
     "metadata": {},
     "output_type": "execute_result"
    }
   ],
   "source": [
    "# Read data from ibm server\n",
    "recipes = pd.read_csv(\"https://cf-courses-data.s3.us.cloud-object-storage.appdomain.cloud/IBMDeveloperSkillsNetwork-DS0103EN-SkillsNetwork/labs/Module%202/recipes.csv\")\n",
    "\n",
    "# Show the first few rows\n",
    "recipes.head()"
   ],
   "metadata": {
    "collapsed": false,
    "ExecuteTime": {
     "end_time": "2024-03-08T08:57:18.575502Z",
     "start_time": "2024-03-08T08:55:54.581146Z"
    }
   },
   "execution_count": 8
  },
  {
   "cell_type": "markdown",
   "source": [],
   "metadata": {
    "collapsed": false
   }
  },
  {
   "cell_type": "code",
   "outputs": [
    {
     "data": {
      "text/plain": "(57691, 384)"
     },
     "execution_count": 9,
     "metadata": {},
     "output_type": "execute_result"
    }
   ],
   "source": [
    "# Get the dimensions of the dataframe\n",
    "recipes.shape"
   ],
   "metadata": {
    "collapsed": false,
    "ExecuteTime": {
     "end_time": "2024-03-08T08:57:42.571591Z",
     "start_time": "2024-03-08T08:57:42.568585Z"
    }
   },
   "execution_count": 9
  },
  {
   "cell_type": "code",
   "outputs": [],
   "source": [
    "from pprint import pprint as p"
   ],
   "metadata": {
    "collapsed": false,
    "ExecuteTime": {
     "end_time": "2024-03-08T09:03:51.920359Z",
     "start_time": "2024-03-08T09:03:51.918247Z"
    }
   },
   "execution_count": 14
  },
  {
   "cell_type": "code",
   "outputs": [
    {
     "name": "stdout",
     "output_type": "stream",
     "text": [
      "['brown_rice', 'licorice', 'rice']\n",
      "['wasabi']\n",
      "['soy_sauce', 'soybean', 'soybean_oil']\n"
     ]
    }
   ],
   "source": [
    "ingredients = list(recipes.columns.values)\n",
    "\n",
    "p([match.group(0) for ingredient in ingredients for match in [(re.compile(\".*(rice).*\")).search(ingredient)] if match])\n",
    "p([match.group(0) for ingredient in ingredients for match in [(re.compile(\".*(wasabi).*\")).search(ingredient)] if match])\n",
    "p([match.group(0) for ingredient in ingredients for match in [(re.compile(\".*(soy).*\")).search(ingredient)] if match])"
   ],
   "metadata": {
    "collapsed": false,
    "ExecuteTime": {
     "end_time": "2024-03-08T09:04:15.418271Z",
     "start_time": "2024-03-08T09:04:15.413017Z"
    }
   },
   "execution_count": 16
  },
  {
   "cell_type": "markdown",
   "source": [
    "## Clean data"
   ],
   "metadata": {
    "collapsed": false
   }
  },
  {
   "cell_type": "code",
   "outputs": [
    {
     "data": {
      "text/plain": "country\nAmerican        40150\nMexico           1754\nItalian          1715\nItaly            1461\nAsian            1176\n                ...  \nIndonesia          12\nBelgium            11\nEast-African       11\nIsrael              9\nBangladesh          4\nName: count, Length: 69, dtype: int64"
     },
     "execution_count": 17,
     "metadata": {},
     "output_type": "execute_result"
    }
   ],
   "source": [
    "recipes['country'].value_counts()"
   ],
   "metadata": {
    "collapsed": false,
    "ExecuteTime": {
     "end_time": "2024-03-08T09:05:14.453830Z",
     "start_time": "2024-03-08T09:05:14.446311Z"
    }
   },
   "execution_count": 17
  },
  {
   "cell_type": "code",
   "outputs": [
    {
     "data": {
      "text/plain": "          cuisine almond angelica anise anise_seed apple apple_brandy apricot  \\\n0      vietnamese     No       No    No         No    No           No      No   \n1      vietnamese     No       No    No         No    No           No      No   \n2      vietnamese     No       No    No         No    No           No      No   \n3      vietnamese     No       No    No         No    No           No      No   \n4      vietnamese     No       No    No         No    No           No      No   \n...           ...    ...      ...   ...        ...   ...          ...     ...   \n57686       japan     No       No    No         No    No           No      No   \n57687       japan     No       No    No         No    No           No      No   \n57688       japan     No       No    No         No    No           No      No   \n57689       japan     No       No    No         No    No           No      No   \n57690       japan     No       No    No         No    No           No      No   \n\n      armagnac artemisia  ... whiskey white_bread white_wine  \\\n0           No        No  ...      No          No         No   \n1           No        No  ...      No          No         No   \n2           No        No  ...      No          No         No   \n3           No        No  ...      No          No         No   \n4           No        No  ...      No          No         No   \n...        ...       ...  ...     ...         ...        ...   \n57686       No        No  ...      No          No         No   \n57687       No        No  ...      No          No         No   \n57688       No        No  ...      No          No         No   \n57689       No        No  ...      No          No         No   \n57690       No        No  ...      No          No         No   \n\n      whole_grain_wheat_flour wine wood yam yeast yogurt zucchini  \n0                          No   No   No  No    No     No       No  \n1                          No   No   No  No    No     No       No  \n2                          No   No   No  No    No     No       No  \n3                          No   No   No  No    No     No       No  \n4                          No   No   No  No    No     No       No  \n...                       ...  ...  ...  ..   ...    ...      ...  \n57686                      No   No   No  No    No     No       No  \n57687                      No   No   No  No    No     No       No  \n57688                      No   No   No  No    No     No       No  \n57689                      No   No   No  No    No     No       No  \n57690                      No   No   No  No    No     No       No  \n\n[57691 rows x 384 columns]",
      "text/html": "<div>\n<style scoped>\n    .dataframe tbody tr th:only-of-type {\n        vertical-align: middle;\n    }\n\n    .dataframe tbody tr th {\n        vertical-align: top;\n    }\n\n    .dataframe thead th {\n        text-align: right;\n    }\n</style>\n<table border=\"1\" class=\"dataframe\">\n  <thead>\n    <tr style=\"text-align: right;\">\n      <th></th>\n      <th>cuisine</th>\n      <th>almond</th>\n      <th>angelica</th>\n      <th>anise</th>\n      <th>anise_seed</th>\n      <th>apple</th>\n      <th>apple_brandy</th>\n      <th>apricot</th>\n      <th>armagnac</th>\n      <th>artemisia</th>\n      <th>...</th>\n      <th>whiskey</th>\n      <th>white_bread</th>\n      <th>white_wine</th>\n      <th>whole_grain_wheat_flour</th>\n      <th>wine</th>\n      <th>wood</th>\n      <th>yam</th>\n      <th>yeast</th>\n      <th>yogurt</th>\n      <th>zucchini</th>\n    </tr>\n  </thead>\n  <tbody>\n    <tr>\n      <th>0</th>\n      <td>vietnamese</td>\n      <td>No</td>\n      <td>No</td>\n      <td>No</td>\n      <td>No</td>\n      <td>No</td>\n      <td>No</td>\n      <td>No</td>\n      <td>No</td>\n      <td>No</td>\n      <td>...</td>\n      <td>No</td>\n      <td>No</td>\n      <td>No</td>\n      <td>No</td>\n      <td>No</td>\n      <td>No</td>\n      <td>No</td>\n      <td>No</td>\n      <td>No</td>\n      <td>No</td>\n    </tr>\n    <tr>\n      <th>1</th>\n      <td>vietnamese</td>\n      <td>No</td>\n      <td>No</td>\n      <td>No</td>\n      <td>No</td>\n      <td>No</td>\n      <td>No</td>\n      <td>No</td>\n      <td>No</td>\n      <td>No</td>\n      <td>...</td>\n      <td>No</td>\n      <td>No</td>\n      <td>No</td>\n      <td>No</td>\n      <td>No</td>\n      <td>No</td>\n      <td>No</td>\n      <td>No</td>\n      <td>No</td>\n      <td>No</td>\n    </tr>\n    <tr>\n      <th>2</th>\n      <td>vietnamese</td>\n      <td>No</td>\n      <td>No</td>\n      <td>No</td>\n      <td>No</td>\n      <td>No</td>\n      <td>No</td>\n      <td>No</td>\n      <td>No</td>\n      <td>No</td>\n      <td>...</td>\n      <td>No</td>\n      <td>No</td>\n      <td>No</td>\n      <td>No</td>\n      <td>No</td>\n      <td>No</td>\n      <td>No</td>\n      <td>No</td>\n      <td>No</td>\n      <td>No</td>\n    </tr>\n    <tr>\n      <th>3</th>\n      <td>vietnamese</td>\n      <td>No</td>\n      <td>No</td>\n      <td>No</td>\n      <td>No</td>\n      <td>No</td>\n      <td>No</td>\n      <td>No</td>\n      <td>No</td>\n      <td>No</td>\n      <td>...</td>\n      <td>No</td>\n      <td>No</td>\n      <td>No</td>\n      <td>No</td>\n      <td>No</td>\n      <td>No</td>\n      <td>No</td>\n      <td>No</td>\n      <td>No</td>\n      <td>No</td>\n    </tr>\n    <tr>\n      <th>4</th>\n      <td>vietnamese</td>\n      <td>No</td>\n      <td>No</td>\n      <td>No</td>\n      <td>No</td>\n      <td>No</td>\n      <td>No</td>\n      <td>No</td>\n      <td>No</td>\n      <td>No</td>\n      <td>...</td>\n      <td>No</td>\n      <td>No</td>\n      <td>No</td>\n      <td>No</td>\n      <td>No</td>\n      <td>No</td>\n      <td>No</td>\n      <td>No</td>\n      <td>No</td>\n      <td>No</td>\n    </tr>\n    <tr>\n      <th>...</th>\n      <td>...</td>\n      <td>...</td>\n      <td>...</td>\n      <td>...</td>\n      <td>...</td>\n      <td>...</td>\n      <td>...</td>\n      <td>...</td>\n      <td>...</td>\n      <td>...</td>\n      <td>...</td>\n      <td>...</td>\n      <td>...</td>\n      <td>...</td>\n      <td>...</td>\n      <td>...</td>\n      <td>...</td>\n      <td>...</td>\n      <td>...</td>\n      <td>...</td>\n      <td>...</td>\n    </tr>\n    <tr>\n      <th>57686</th>\n      <td>japan</td>\n      <td>No</td>\n      <td>No</td>\n      <td>No</td>\n      <td>No</td>\n      <td>No</td>\n      <td>No</td>\n      <td>No</td>\n      <td>No</td>\n      <td>No</td>\n      <td>...</td>\n      <td>No</td>\n      <td>No</td>\n      <td>No</td>\n      <td>No</td>\n      <td>No</td>\n      <td>No</td>\n      <td>No</td>\n      <td>No</td>\n      <td>No</td>\n      <td>No</td>\n    </tr>\n    <tr>\n      <th>57687</th>\n      <td>japan</td>\n      <td>No</td>\n      <td>No</td>\n      <td>No</td>\n      <td>No</td>\n      <td>No</td>\n      <td>No</td>\n      <td>No</td>\n      <td>No</td>\n      <td>No</td>\n      <td>...</td>\n      <td>No</td>\n      <td>No</td>\n      <td>No</td>\n      <td>No</td>\n      <td>No</td>\n      <td>No</td>\n      <td>No</td>\n      <td>No</td>\n      <td>No</td>\n      <td>No</td>\n    </tr>\n    <tr>\n      <th>57688</th>\n      <td>japan</td>\n      <td>No</td>\n      <td>No</td>\n      <td>No</td>\n      <td>No</td>\n      <td>No</td>\n      <td>No</td>\n      <td>No</td>\n      <td>No</td>\n      <td>No</td>\n      <td>...</td>\n      <td>No</td>\n      <td>No</td>\n      <td>No</td>\n      <td>No</td>\n      <td>No</td>\n      <td>No</td>\n      <td>No</td>\n      <td>No</td>\n      <td>No</td>\n      <td>No</td>\n    </tr>\n    <tr>\n      <th>57689</th>\n      <td>japan</td>\n      <td>No</td>\n      <td>No</td>\n      <td>No</td>\n      <td>No</td>\n      <td>No</td>\n      <td>No</td>\n      <td>No</td>\n      <td>No</td>\n      <td>No</td>\n      <td>...</td>\n      <td>No</td>\n      <td>No</td>\n      <td>No</td>\n      <td>No</td>\n      <td>No</td>\n      <td>No</td>\n      <td>No</td>\n      <td>No</td>\n      <td>No</td>\n      <td>No</td>\n    </tr>\n    <tr>\n      <th>57690</th>\n      <td>japan</td>\n      <td>No</td>\n      <td>No</td>\n      <td>No</td>\n      <td>No</td>\n      <td>No</td>\n      <td>No</td>\n      <td>No</td>\n      <td>No</td>\n      <td>No</td>\n      <td>...</td>\n      <td>No</td>\n      <td>No</td>\n      <td>No</td>\n      <td>No</td>\n      <td>No</td>\n      <td>No</td>\n      <td>No</td>\n      <td>No</td>\n      <td>No</td>\n      <td>No</td>\n    </tr>\n  </tbody>\n</table>\n<p>57691 rows × 384 columns</p>\n</div>"
     },
     "execution_count": 26,
     "metadata": {},
     "output_type": "execute_result"
    }
   ],
   "source": [
    "column_names = recipes.columns.values\n",
    "column_names[0] = \"cuisine\"\n",
    "recipes.columns = column_names\n",
    "recipes"
   ],
   "metadata": {
    "collapsed": false,
    "ExecuteTime": {
     "end_time": "2024-03-08T09:48:20.515925Z",
     "start_time": "2024-03-08T09:48:20.448835Z"
    }
   },
   "execution_count": 26
  },
  {
   "cell_type": "code",
   "outputs": [],
   "source": [
    "# rename cuisine to lower\n",
    "recipes[\"cuisine\"] = recipes[\"cuisine\"].str.lower()\n",
    "\n",
    "# Make names consistent\n",
    "list_cuisine_name = {\n",
    "    'australia': 'austrian',\n",
    "    'belgium': 'belgian',\n",
    "    'china': 'chinese',\n",
    "    'canada': 'canadian',\n",
    "    'netherlands': 'dutch',\n",
    "    'france': 'french',\n",
    "    'germany': 'german',\n",
    "    'india':'indian',\n",
    "    'indonesia': 'indonesian',\n",
    "    'iran': 'iranian',\n",
    "    'italy': 'italian',\n",
    "    'japan': 'japanese',\n",
    "    'israel': 'israeli',\n",
    "    'korea': 'korean',\n",
    "    'lebanon': 'lebanese',\n",
    "    'malaysia': 'malaysian',\n",
    "    'mexico': 'mexican',\n",
    "    'pakistan': 'pakistani',\n",
    "    'philippines':'philippine',\n",
    "    'scandinavia': 'scandinavian',\n",
    "    'spain': 'spanish_portuguese',\n",
    "    'portugal': 'spanish_portuguese',\n",
    "    'switzerland': 'swiss',\n",
    "    'thailand':\"thai\",\n",
    "    'turkey': 'turkish',\n",
    "    'vietnam': 'vietnamese',\n",
    "    \"uk-and-ireland\": \"uk-and-irish\",\n",
    "    \"irish\":\"uk-and-irish\"\n",
    "}\n",
    "\n",
    "for key, value in list_cuisine_name.items():\n",
    "    recipes.loc[recipes[\"cuisine\"] == key, \"cuisine\"] = value"
   ],
   "metadata": {
    "collapsed": false,
    "ExecuteTime": {
     "end_time": "2024-03-08T09:49:46.141302Z",
     "start_time": "2024-03-08T09:49:46.046466Z"
    }
   },
   "execution_count": 27
  },
  {
   "cell_type": "code",
   "outputs": [],
   "source": [
    "recipes_counts = recipes[\"cuisine\"].value_counts()\n",
    "cuisines_indices = recipes_counts > 50\n",
    "\n",
    "cuisines_to_keep = list(np.array(recipes_counts.index.values)[np.array(cuisines_indices)])"
   ],
   "metadata": {
    "collapsed": false,
    "ExecuteTime": {
     "end_time": "2024-03-08T09:50:30.411337Z",
     "start_time": "2024-03-08T09:50:30.403013Z"
    }
   },
   "execution_count": 30
  },
  {
   "cell_type": "code",
   "outputs": [
    {
     "name": "stdout",
     "output_type": "stream",
     "text": [
      "Number of rows of original dataframe is 57691.\n",
      "Number of rows of processed dataframe is 57394.\n",
      "297 rows removed!\n"
     ]
    }
   ],
   "source": [
    "rows_before = recipes.shape[0] # number of rows of original dataframe\n",
    "print(\"Number of rows of original dataframe is {}.\".format(rows_before))\n",
    "\n",
    "recipes = recipes.loc[recipes['cuisine'].isin(cuisines_to_keep)]\n",
    "\n",
    "rows_after = recipes.shape[0] # number of rows of processed dataframe\n",
    "print(\"Number of rows of processed dataframe is {}.\".format(rows_after))\n",
    "\n",
    "print(\"{} rows removed!\".format(rows_before - rows_after))"
   ],
   "metadata": {
    "collapsed": false,
    "ExecuteTime": {
     "end_time": "2024-03-08T09:50:41.725312Z",
     "start_time": "2024-03-08T09:50:41.571149Z"
    }
   },
   "execution_count": 31
  },
  {
   "cell_type": "code",
   "outputs": [
    {
     "data": {
      "text/plain": "          cuisine almond angelica anise anise_seed apple apple_brandy apricot  \\\n0      vietnamese      0        0     0          0     0            0       0   \n1      vietnamese      0        0     0          0     0            0       0   \n2      vietnamese      0        0     0          0     0            0       0   \n3      vietnamese      0        0     0          0     0            0       0   \n4      vietnamese      0        0     0          0     0            0       0   \n...           ...    ...      ...   ...        ...   ...          ...     ...   \n57686    japanese      0        0     0          0     0            0       0   \n57687    japanese      0        0     0          0     0            0       0   \n57688    japanese      0        0     0          0     0            0       0   \n57689    japanese      0        0     0          0     0            0       0   \n57690    japanese      0        0     0          0     0            0       0   \n\n      armagnac artemisia  ... whiskey white_bread white_wine  \\\n0            0         0  ...       0           0          0   \n1            0         0  ...       0           0          0   \n2            0         0  ...       0           0          0   \n3            0         0  ...       0           0          0   \n4            0         0  ...       0           0          0   \n...        ...       ...  ...     ...         ...        ...   \n57686        0         0  ...       0           0          0   \n57687        0         0  ...       0           0          0   \n57688        0         0  ...       0           0          0   \n57689        0         0  ...       0           0          0   \n57690        0         0  ...       0           0          0   \n\n      whole_grain_wheat_flour wine wood yam yeast yogurt zucchini  \n0                           0    0    0   0     0      0        0  \n1                           0    0    0   0     0      0        0  \n2                           0    0    0   0     0      0        0  \n3                           0    0    0   0     0      0        0  \n4                           0    0    0   0     0      0        0  \n...                       ...  ...  ...  ..   ...    ...      ...  \n57686                       0    0    0   0     0      0        0  \n57687                       0    0    0   0     0      0        0  \n57688                       0    0    0   0     0      0        0  \n57689                       0    0    0   0     0      0        0  \n57690                       0    0    0   0     0      0        0  \n\n[57394 rows x 384 columns]",
      "text/html": "<div>\n<style scoped>\n    .dataframe tbody tr th:only-of-type {\n        vertical-align: middle;\n    }\n\n    .dataframe tbody tr th {\n        vertical-align: top;\n    }\n\n    .dataframe thead th {\n        text-align: right;\n    }\n</style>\n<table border=\"1\" class=\"dataframe\">\n  <thead>\n    <tr style=\"text-align: right;\">\n      <th></th>\n      <th>cuisine</th>\n      <th>almond</th>\n      <th>angelica</th>\n      <th>anise</th>\n      <th>anise_seed</th>\n      <th>apple</th>\n      <th>apple_brandy</th>\n      <th>apricot</th>\n      <th>armagnac</th>\n      <th>artemisia</th>\n      <th>...</th>\n      <th>whiskey</th>\n      <th>white_bread</th>\n      <th>white_wine</th>\n      <th>whole_grain_wheat_flour</th>\n      <th>wine</th>\n      <th>wood</th>\n      <th>yam</th>\n      <th>yeast</th>\n      <th>yogurt</th>\n      <th>zucchini</th>\n    </tr>\n  </thead>\n  <tbody>\n    <tr>\n      <th>0</th>\n      <td>vietnamese</td>\n      <td>0</td>\n      <td>0</td>\n      <td>0</td>\n      <td>0</td>\n      <td>0</td>\n      <td>0</td>\n      <td>0</td>\n      <td>0</td>\n      <td>0</td>\n      <td>...</td>\n      <td>0</td>\n      <td>0</td>\n      <td>0</td>\n      <td>0</td>\n      <td>0</td>\n      <td>0</td>\n      <td>0</td>\n      <td>0</td>\n      <td>0</td>\n      <td>0</td>\n    </tr>\n    <tr>\n      <th>1</th>\n      <td>vietnamese</td>\n      <td>0</td>\n      <td>0</td>\n      <td>0</td>\n      <td>0</td>\n      <td>0</td>\n      <td>0</td>\n      <td>0</td>\n      <td>0</td>\n      <td>0</td>\n      <td>...</td>\n      <td>0</td>\n      <td>0</td>\n      <td>0</td>\n      <td>0</td>\n      <td>0</td>\n      <td>0</td>\n      <td>0</td>\n      <td>0</td>\n      <td>0</td>\n      <td>0</td>\n    </tr>\n    <tr>\n      <th>2</th>\n      <td>vietnamese</td>\n      <td>0</td>\n      <td>0</td>\n      <td>0</td>\n      <td>0</td>\n      <td>0</td>\n      <td>0</td>\n      <td>0</td>\n      <td>0</td>\n      <td>0</td>\n      <td>...</td>\n      <td>0</td>\n      <td>0</td>\n      <td>0</td>\n      <td>0</td>\n      <td>0</td>\n      <td>0</td>\n      <td>0</td>\n      <td>0</td>\n      <td>0</td>\n      <td>0</td>\n    </tr>\n    <tr>\n      <th>3</th>\n      <td>vietnamese</td>\n      <td>0</td>\n      <td>0</td>\n      <td>0</td>\n      <td>0</td>\n      <td>0</td>\n      <td>0</td>\n      <td>0</td>\n      <td>0</td>\n      <td>0</td>\n      <td>...</td>\n      <td>0</td>\n      <td>0</td>\n      <td>0</td>\n      <td>0</td>\n      <td>0</td>\n      <td>0</td>\n      <td>0</td>\n      <td>0</td>\n      <td>0</td>\n      <td>0</td>\n    </tr>\n    <tr>\n      <th>4</th>\n      <td>vietnamese</td>\n      <td>0</td>\n      <td>0</td>\n      <td>0</td>\n      <td>0</td>\n      <td>0</td>\n      <td>0</td>\n      <td>0</td>\n      <td>0</td>\n      <td>0</td>\n      <td>...</td>\n      <td>0</td>\n      <td>0</td>\n      <td>0</td>\n      <td>0</td>\n      <td>0</td>\n      <td>0</td>\n      <td>0</td>\n      <td>0</td>\n      <td>0</td>\n      <td>0</td>\n    </tr>\n    <tr>\n      <th>...</th>\n      <td>...</td>\n      <td>...</td>\n      <td>...</td>\n      <td>...</td>\n      <td>...</td>\n      <td>...</td>\n      <td>...</td>\n      <td>...</td>\n      <td>...</td>\n      <td>...</td>\n      <td>...</td>\n      <td>...</td>\n      <td>...</td>\n      <td>...</td>\n      <td>...</td>\n      <td>...</td>\n      <td>...</td>\n      <td>...</td>\n      <td>...</td>\n      <td>...</td>\n      <td>...</td>\n    </tr>\n    <tr>\n      <th>57686</th>\n      <td>japanese</td>\n      <td>0</td>\n      <td>0</td>\n      <td>0</td>\n      <td>0</td>\n      <td>0</td>\n      <td>0</td>\n      <td>0</td>\n      <td>0</td>\n      <td>0</td>\n      <td>...</td>\n      <td>0</td>\n      <td>0</td>\n      <td>0</td>\n      <td>0</td>\n      <td>0</td>\n      <td>0</td>\n      <td>0</td>\n      <td>0</td>\n      <td>0</td>\n      <td>0</td>\n    </tr>\n    <tr>\n      <th>57687</th>\n      <td>japanese</td>\n      <td>0</td>\n      <td>0</td>\n      <td>0</td>\n      <td>0</td>\n      <td>0</td>\n      <td>0</td>\n      <td>0</td>\n      <td>0</td>\n      <td>0</td>\n      <td>...</td>\n      <td>0</td>\n      <td>0</td>\n      <td>0</td>\n      <td>0</td>\n      <td>0</td>\n      <td>0</td>\n      <td>0</td>\n      <td>0</td>\n      <td>0</td>\n      <td>0</td>\n    </tr>\n    <tr>\n      <th>57688</th>\n      <td>japanese</td>\n      <td>0</td>\n      <td>0</td>\n      <td>0</td>\n      <td>0</td>\n      <td>0</td>\n      <td>0</td>\n      <td>0</td>\n      <td>0</td>\n      <td>0</td>\n      <td>...</td>\n      <td>0</td>\n      <td>0</td>\n      <td>0</td>\n      <td>0</td>\n      <td>0</td>\n      <td>0</td>\n      <td>0</td>\n      <td>0</td>\n      <td>0</td>\n      <td>0</td>\n    </tr>\n    <tr>\n      <th>57689</th>\n      <td>japanese</td>\n      <td>0</td>\n      <td>0</td>\n      <td>0</td>\n      <td>0</td>\n      <td>0</td>\n      <td>0</td>\n      <td>0</td>\n      <td>0</td>\n      <td>0</td>\n      <td>...</td>\n      <td>0</td>\n      <td>0</td>\n      <td>0</td>\n      <td>0</td>\n      <td>0</td>\n      <td>0</td>\n      <td>0</td>\n      <td>0</td>\n      <td>0</td>\n      <td>0</td>\n    </tr>\n    <tr>\n      <th>57690</th>\n      <td>japanese</td>\n      <td>0</td>\n      <td>0</td>\n      <td>0</td>\n      <td>0</td>\n      <td>0</td>\n      <td>0</td>\n      <td>0</td>\n      <td>0</td>\n      <td>0</td>\n      <td>...</td>\n      <td>0</td>\n      <td>0</td>\n      <td>0</td>\n      <td>0</td>\n      <td>0</td>\n      <td>0</td>\n      <td>0</td>\n      <td>0</td>\n      <td>0</td>\n      <td>0</td>\n    </tr>\n  </tbody>\n</table>\n<p>57394 rows × 384 columns</p>\n</div>"
     },
     "execution_count": 33,
     "metadata": {},
     "output_type": "execute_result"
    }
   ],
   "source": [
    "recipes.astype(str).replace(to_replace=\"Yes\", value=1)\n",
    "recipes.astype(str).replace(to_replace=\"No\", value=0)"
   ],
   "metadata": {
    "collapsed": false,
    "ExecuteTime": {
     "end_time": "2024-03-08T09:52:38.733698Z",
     "start_time": "2024-03-08T09:52:30.170321Z"
    }
   },
   "execution_count": 33
  },
  {
   "cell_type": "markdown",
   "source": [
    "## Analyze the data "
   ],
   "metadata": {
    "collapsed": false
   }
  },
  {
   "cell_type": "code",
   "outputs": [
    {
     "data": {
      "text/plain": "      cuisine  almond  angelica  anise  anise_seed  apple  apple_brandy  \\\n0  vietnamese       0         0      0           0      0             0   \n1  vietnamese       0         0      0           0      0             0   \n2  vietnamese       0         0      0           0      0             0   \n3  vietnamese       0         0      0           0      0             0   \n4  vietnamese       0         0      0           0      0             0   \n\n   apricot  armagnac  artemisia  ...  whiskey  white_bread  white_wine  \\\n0        0         0          0  ...        0            0           0   \n1        0         0          0  ...        0            0           0   \n2        0         0          0  ...        0            0           0   \n3        0         0          0  ...        0            0           0   \n4        0         0          0  ...        0            0           0   \n\n   whole_grain_wheat_flour  wine  wood  yam  yeast  yogurt  zucchini  \n0                        0     0     0    0      0       0         0  \n1                        0     0     0    0      0       0         0  \n2                        0     0     0    0      0       0         0  \n3                        0     0     0    0      0       0         0  \n4                        0     0     0    0      0       0         0  \n\n[5 rows x 384 columns]",
      "text/html": "<div>\n<style scoped>\n    .dataframe tbody tr th:only-of-type {\n        vertical-align: middle;\n    }\n\n    .dataframe tbody tr th {\n        vertical-align: top;\n    }\n\n    .dataframe thead th {\n        text-align: right;\n    }\n</style>\n<table border=\"1\" class=\"dataframe\">\n  <thead>\n    <tr style=\"text-align: right;\">\n      <th></th>\n      <th>cuisine</th>\n      <th>almond</th>\n      <th>angelica</th>\n      <th>anise</th>\n      <th>anise_seed</th>\n      <th>apple</th>\n      <th>apple_brandy</th>\n      <th>apricot</th>\n      <th>armagnac</th>\n      <th>artemisia</th>\n      <th>...</th>\n      <th>whiskey</th>\n      <th>white_bread</th>\n      <th>white_wine</th>\n      <th>whole_grain_wheat_flour</th>\n      <th>wine</th>\n      <th>wood</th>\n      <th>yam</th>\n      <th>yeast</th>\n      <th>yogurt</th>\n      <th>zucchini</th>\n    </tr>\n  </thead>\n  <tbody>\n    <tr>\n      <th>0</th>\n      <td>vietnamese</td>\n      <td>0</td>\n      <td>0</td>\n      <td>0</td>\n      <td>0</td>\n      <td>0</td>\n      <td>0</td>\n      <td>0</td>\n      <td>0</td>\n      <td>0</td>\n      <td>...</td>\n      <td>0</td>\n      <td>0</td>\n      <td>0</td>\n      <td>0</td>\n      <td>0</td>\n      <td>0</td>\n      <td>0</td>\n      <td>0</td>\n      <td>0</td>\n      <td>0</td>\n    </tr>\n    <tr>\n      <th>1</th>\n      <td>vietnamese</td>\n      <td>0</td>\n      <td>0</td>\n      <td>0</td>\n      <td>0</td>\n      <td>0</td>\n      <td>0</td>\n      <td>0</td>\n      <td>0</td>\n      <td>0</td>\n      <td>...</td>\n      <td>0</td>\n      <td>0</td>\n      <td>0</td>\n      <td>0</td>\n      <td>0</td>\n      <td>0</td>\n      <td>0</td>\n      <td>0</td>\n      <td>0</td>\n      <td>0</td>\n    </tr>\n    <tr>\n      <th>2</th>\n      <td>vietnamese</td>\n      <td>0</td>\n      <td>0</td>\n      <td>0</td>\n      <td>0</td>\n      <td>0</td>\n      <td>0</td>\n      <td>0</td>\n      <td>0</td>\n      <td>0</td>\n      <td>...</td>\n      <td>0</td>\n      <td>0</td>\n      <td>0</td>\n      <td>0</td>\n      <td>0</td>\n      <td>0</td>\n      <td>0</td>\n      <td>0</td>\n      <td>0</td>\n      <td>0</td>\n    </tr>\n    <tr>\n      <th>3</th>\n      <td>vietnamese</td>\n      <td>0</td>\n      <td>0</td>\n      <td>0</td>\n      <td>0</td>\n      <td>0</td>\n      <td>0</td>\n      <td>0</td>\n      <td>0</td>\n      <td>0</td>\n      <td>...</td>\n      <td>0</td>\n      <td>0</td>\n      <td>0</td>\n      <td>0</td>\n      <td>0</td>\n      <td>0</td>\n      <td>0</td>\n      <td>0</td>\n      <td>0</td>\n      <td>0</td>\n    </tr>\n    <tr>\n      <th>4</th>\n      <td>vietnamese</td>\n      <td>0</td>\n      <td>0</td>\n      <td>0</td>\n      <td>0</td>\n      <td>0</td>\n      <td>0</td>\n      <td>0</td>\n      <td>0</td>\n      <td>0</td>\n      <td>...</td>\n      <td>0</td>\n      <td>0</td>\n      <td>0</td>\n      <td>0</td>\n      <td>0</td>\n      <td>0</td>\n      <td>0</td>\n      <td>0</td>\n      <td>0</td>\n      <td>0</td>\n    </tr>\n  </tbody>\n</table>\n<p>5 rows × 384 columns</p>\n</div>"
     },
     "execution_count": 34,
     "metadata": {},
     "output_type": "execute_result"
    }
   ],
   "source": [
    "recipes.head()"
   ],
   "metadata": {
    "collapsed": false,
    "ExecuteTime": {
     "end_time": "2024-03-08T09:53:23.366548Z",
     "start_time": "2024-03-08T09:53:23.347032Z"
    }
   },
   "execution_count": 34
  },
  {
   "cell_type": "code",
   "outputs": [
    {
     "data": {
      "text/plain": "          cuisine  almond  angelica  anise  anise_seed  apple  apple_brandy  \\\n11306    japanese       0         0      0           0      0             0   \n11321    japanese       0         0      0           0      0             0   \n11361    japanese       0         0      0           0      0             0   \n12171       asian       0         0      0           0      0             0   \n12385       asian       0         0      0           0      0             0   \n13010       asian       0         0      0           0      0             0   \n13159       asian       0         0      0           0      0             0   \n13513    japanese       0         0      0           0      0             0   \n13586    japanese       0         0      0           0      0             0   \n13625  east_asian       0         0      0           0      0             0   \n14495  east_asian       0         0      0           0      0             0   \n\n       apricot  armagnac  artemisia  ...  whiskey  white_bread  white_wine  \\\n11306        0         0          0  ...        0            0           0   \n11321        0         0          0  ...        0            0           0   \n11361        0         0          0  ...        0            0           0   \n12171        0         0          0  ...        0            0           0   \n12385        0         0          0  ...        0            0           0   \n13010        0         0          0  ...        0            0           0   \n13159        0         0          0  ...        0            0           0   \n13513        0         0          0  ...        0            0           0   \n13586        0         0          0  ...        0            0           0   \n13625        0         0          0  ...        0            0           0   \n14495        0         0          0  ...        0            0           0   \n\n       whole_grain_wheat_flour  wine  wood  yam  yeast  yogurt  zucchini  \n11306                        0     0     0    0      0       0         0  \n11321                        0     1     0    0      0       0         0  \n11361                        0     0     0    0      0       0         0  \n12171                        0     1     0    0      0       0         0  \n12385                        0     0     0    0      0       0         0  \n13010                        0     0     0    0      0       0         0  \n13159                        0     0     0    0      0       0         0  \n13513                        0     0     0    0      0       0         0  \n13586                        0     0     0    0      0       0         0  \n13625                        0     0     0    0      0       0         0  \n14495                        0     0     0    0      0       0         0  \n\n[11 rows x 384 columns]",
      "text/html": "<div>\n<style scoped>\n    .dataframe tbody tr th:only-of-type {\n        vertical-align: middle;\n    }\n\n    .dataframe tbody tr th {\n        vertical-align: top;\n    }\n\n    .dataframe thead th {\n        text-align: right;\n    }\n</style>\n<table border=\"1\" class=\"dataframe\">\n  <thead>\n    <tr style=\"text-align: right;\">\n      <th></th>\n      <th>cuisine</th>\n      <th>almond</th>\n      <th>angelica</th>\n      <th>anise</th>\n      <th>anise_seed</th>\n      <th>apple</th>\n      <th>apple_brandy</th>\n      <th>apricot</th>\n      <th>armagnac</th>\n      <th>artemisia</th>\n      <th>...</th>\n      <th>whiskey</th>\n      <th>white_bread</th>\n      <th>white_wine</th>\n      <th>whole_grain_wheat_flour</th>\n      <th>wine</th>\n      <th>wood</th>\n      <th>yam</th>\n      <th>yeast</th>\n      <th>yogurt</th>\n      <th>zucchini</th>\n    </tr>\n  </thead>\n  <tbody>\n    <tr>\n      <th>11306</th>\n      <td>japanese</td>\n      <td>0</td>\n      <td>0</td>\n      <td>0</td>\n      <td>0</td>\n      <td>0</td>\n      <td>0</td>\n      <td>0</td>\n      <td>0</td>\n      <td>0</td>\n      <td>...</td>\n      <td>0</td>\n      <td>0</td>\n      <td>0</td>\n      <td>0</td>\n      <td>0</td>\n      <td>0</td>\n      <td>0</td>\n      <td>0</td>\n      <td>0</td>\n      <td>0</td>\n    </tr>\n    <tr>\n      <th>11321</th>\n      <td>japanese</td>\n      <td>0</td>\n      <td>0</td>\n      <td>0</td>\n      <td>0</td>\n      <td>0</td>\n      <td>0</td>\n      <td>0</td>\n      <td>0</td>\n      <td>0</td>\n      <td>...</td>\n      <td>0</td>\n      <td>0</td>\n      <td>0</td>\n      <td>0</td>\n      <td>1</td>\n      <td>0</td>\n      <td>0</td>\n      <td>0</td>\n      <td>0</td>\n      <td>0</td>\n    </tr>\n    <tr>\n      <th>11361</th>\n      <td>japanese</td>\n      <td>0</td>\n      <td>0</td>\n      <td>0</td>\n      <td>0</td>\n      <td>0</td>\n      <td>0</td>\n      <td>0</td>\n      <td>0</td>\n      <td>0</td>\n      <td>...</td>\n      <td>0</td>\n      <td>0</td>\n      <td>0</td>\n      <td>0</td>\n      <td>0</td>\n      <td>0</td>\n      <td>0</td>\n      <td>0</td>\n      <td>0</td>\n      <td>0</td>\n    </tr>\n    <tr>\n      <th>12171</th>\n      <td>asian</td>\n      <td>0</td>\n      <td>0</td>\n      <td>0</td>\n      <td>0</td>\n      <td>0</td>\n      <td>0</td>\n      <td>0</td>\n      <td>0</td>\n      <td>0</td>\n      <td>...</td>\n      <td>0</td>\n      <td>0</td>\n      <td>0</td>\n      <td>0</td>\n      <td>1</td>\n      <td>0</td>\n      <td>0</td>\n      <td>0</td>\n      <td>0</td>\n      <td>0</td>\n    </tr>\n    <tr>\n      <th>12385</th>\n      <td>asian</td>\n      <td>0</td>\n      <td>0</td>\n      <td>0</td>\n      <td>0</td>\n      <td>0</td>\n      <td>0</td>\n      <td>0</td>\n      <td>0</td>\n      <td>0</td>\n      <td>...</td>\n      <td>0</td>\n      <td>0</td>\n      <td>0</td>\n      <td>0</td>\n      <td>0</td>\n      <td>0</td>\n      <td>0</td>\n      <td>0</td>\n      <td>0</td>\n      <td>0</td>\n    </tr>\n    <tr>\n      <th>13010</th>\n      <td>asian</td>\n      <td>0</td>\n      <td>0</td>\n      <td>0</td>\n      <td>0</td>\n      <td>0</td>\n      <td>0</td>\n      <td>0</td>\n      <td>0</td>\n      <td>0</td>\n      <td>...</td>\n      <td>0</td>\n      <td>0</td>\n      <td>0</td>\n      <td>0</td>\n      <td>0</td>\n      <td>0</td>\n      <td>0</td>\n      <td>0</td>\n      <td>0</td>\n      <td>0</td>\n    </tr>\n    <tr>\n      <th>13159</th>\n      <td>asian</td>\n      <td>0</td>\n      <td>0</td>\n      <td>0</td>\n      <td>0</td>\n      <td>0</td>\n      <td>0</td>\n      <td>0</td>\n      <td>0</td>\n      <td>0</td>\n      <td>...</td>\n      <td>0</td>\n      <td>0</td>\n      <td>0</td>\n      <td>0</td>\n      <td>0</td>\n      <td>0</td>\n      <td>0</td>\n      <td>0</td>\n      <td>0</td>\n      <td>0</td>\n    </tr>\n    <tr>\n      <th>13513</th>\n      <td>japanese</td>\n      <td>0</td>\n      <td>0</td>\n      <td>0</td>\n      <td>0</td>\n      <td>0</td>\n      <td>0</td>\n      <td>0</td>\n      <td>0</td>\n      <td>0</td>\n      <td>...</td>\n      <td>0</td>\n      <td>0</td>\n      <td>0</td>\n      <td>0</td>\n      <td>0</td>\n      <td>0</td>\n      <td>0</td>\n      <td>0</td>\n      <td>0</td>\n      <td>0</td>\n    </tr>\n    <tr>\n      <th>13586</th>\n      <td>japanese</td>\n      <td>0</td>\n      <td>0</td>\n      <td>0</td>\n      <td>0</td>\n      <td>0</td>\n      <td>0</td>\n      <td>0</td>\n      <td>0</td>\n      <td>0</td>\n      <td>...</td>\n      <td>0</td>\n      <td>0</td>\n      <td>0</td>\n      <td>0</td>\n      <td>0</td>\n      <td>0</td>\n      <td>0</td>\n      <td>0</td>\n      <td>0</td>\n      <td>0</td>\n    </tr>\n    <tr>\n      <th>13625</th>\n      <td>east_asian</td>\n      <td>0</td>\n      <td>0</td>\n      <td>0</td>\n      <td>0</td>\n      <td>0</td>\n      <td>0</td>\n      <td>0</td>\n      <td>0</td>\n      <td>0</td>\n      <td>...</td>\n      <td>0</td>\n      <td>0</td>\n      <td>0</td>\n      <td>0</td>\n      <td>0</td>\n      <td>0</td>\n      <td>0</td>\n      <td>0</td>\n      <td>0</td>\n      <td>0</td>\n    </tr>\n    <tr>\n      <th>14495</th>\n      <td>east_asian</td>\n      <td>0</td>\n      <td>0</td>\n      <td>0</td>\n      <td>0</td>\n      <td>0</td>\n      <td>0</td>\n      <td>0</td>\n      <td>0</td>\n      <td>0</td>\n      <td>...</td>\n      <td>0</td>\n      <td>0</td>\n      <td>0</td>\n      <td>0</td>\n      <td>0</td>\n      <td>0</td>\n      <td>0</td>\n      <td>0</td>\n      <td>0</td>\n      <td>0</td>\n    </tr>\n  </tbody>\n</table>\n<p>11 rows × 384 columns</p>\n</div>"
     },
     "execution_count": 35,
     "metadata": {},
     "output_type": "execute_result"
    }
   ],
   "source": [
    "check_recipes = recipes.loc[\n",
    "    (recipes[\"rice\"] == 1) &\n",
    "    (recipes[\"soy_sauce\"] == 1) &\n",
    "    (recipes[\"wasabi\"] == 1) &\n",
    "    (recipes[\"seaweed\"] == 1)\n",
    "    ]\n",
    "\n",
    "check_recipes"
   ],
   "metadata": {
    "collapsed": false,
    "ExecuteTime": {
     "end_time": "2024-03-08T09:53:33.915465Z",
     "start_time": "2024-03-08T09:53:33.894215Z"
    }
   },
   "execution_count": 35
  },
  {
   "cell_type": "code",
   "outputs": [],
   "source": [
    "# sum each column\n",
    "ing = recipes.iloc[:, 1:].sum(axis=0)"
   ],
   "metadata": {
    "collapsed": false,
    "ExecuteTime": {
     "end_time": "2024-03-08T09:54:11.297353Z",
     "start_time": "2024-03-08T09:54:11.225272Z"
    }
   },
   "execution_count": 36
  },
  {
   "cell_type": "code",
   "outputs": [
    {
     "name": "stdout",
     "output_type": "stream",
     "text": [
      "('                  ingredient  count\\n'\n",
      " '0                     almond   2306\\n'\n",
      " '1                   angelica      1\\n'\n",
      " '2                      anise    223\\n'\n",
      " '3                 anise_seed     87\\n'\n",
      " '4                      apple   2420\\n'\n",
      " '5               apple_brandy     37\\n'\n",
      " '6                    apricot    620\\n'\n",
      " '7                   armagnac     11\\n'\n",
      " '8                  artemisia     13\\n'\n",
      " '9                  artichoke    391\\n'\n",
      " '10                 asparagus    460\\n'\n",
      " '11                   avocado    660\\n'\n",
      " '12                     bacon   2169\\n'\n",
      " '13              baked_potato      9\\n'\n",
      " '14                      balm      3\\n'\n",
      " '15                    banana    989\\n'\n",
      " '16                    barley    266\\n'\n",
      " '17             bartlett_pear     23\\n'\n",
      " '18                     basil   3842\\n'\n",
      " '19                       bay   1463\\n'\n",
      " '20                      bean   1992\\n'\n",
      " '21                     beech      1\\n'\n",
      " '22                      beef   4902\\n'\n",
      " '23                beef_broth    845\\n'\n",
      " '24                beef_liver     10\\n'\n",
      " '25                      beer    307\\n'\n",
      " '26                      beet    233\\n'\n",
      " '27               bell_pepper   5979\\n'\n",
      " '28                  bergamot      7\\n'\n",
      " '29                     berry    183\\n'\n",
      " '30             bitter_orange     85\\n'\n",
      " '31                black_bean    494\\n'\n",
      " '32             black_currant     11\\n'\n",
      " '33    black_mustard_seed_oil     30\\n'\n",
      " '34              black_pepper   9825\\n'\n",
      " '35           black_raspberry      8\\n'\n",
      " '36         black_sesame_seed     26\\n'\n",
      " '37                 black_tea     44\\n'\n",
      " '38                blackberry    170\\n'\n",
      " '39         blackberry_brandy      4\\n'\n",
      " '40               blue_cheese    396\\n'\n",
      " '41                 blueberry    466\\n'\n",
      " '42                  bone_oil     50\\n'\n",
      " '43           bourbon_whiskey    156\\n'\n",
      " '44                    brandy    395\\n'\n",
      " '45                  brassica    114\\n'\n",
      " '46                     bread   4571\\n'\n",
      " '47                  broccoli    929\\n'\n",
      " '48                brown_rice    346\\n'\n",
      " '49           brussels_sprout     92\\n'\n",
      " '50                 buckwheat     90\\n'\n",
      " '51                    butter  20715\\n'\n",
      " '52                buttermilk   1634\\n'\n",
      " '53                   cabbage   1026\\n'\n",
      " '54   cabernet_sauvignon_wine     17\\n'\n",
      " '55                     cacao     35\\n'\n",
      " '56          camembert_cheese     12\\n'\n",
      " '57             cane_molasses   7741\\n'\n",
      " '58                   caraway    233\\n'\n",
      " '59                  cardamom    352\\n'\n",
      " '60                 carnation      3\\n'\n",
      " '61                     carob      7\\n'\n",
      " '62                    carrot   3689\\n'\n",
      " '63                    cashew    208\\n'\n",
      " '64                   cassava     19\\n'\n",
      " '65                   catfish     71\\n'\n",
      " '66               cauliflower    332\\n'\n",
      " '67                    caviar     28\\n'\n",
      " '68                   cayenne   8253\\n'\n",
      " '69                    celery   3625\\n'\n",
      " '70                celery_oil   1005\\n'\n",
      " '71                    cereal    204\\n'\n",
      " '72                 chamomile      3\\n'\n",
      " '73            champagne_wine    100\\n'\n",
      " '74                   chayote     27\\n'\n",
      " '75            cheddar_cheese   3027\\n'\n",
      " '76                    cheese   3278\\n'\n",
      " '77                    cherry   1082\\n'\n",
      " '78             cherry_brandy     32\\n'\n",
      " '79                   chervil     52\\n'\n",
      " '80                   chicken   5436\\n'\n",
      " '81             chicken_broth   3603\\n'\n",
      " '82             chicken_liver     52\\n'\n",
      " '83                  chickpea    402\\n'\n",
      " '84                   chicory    156\\n'\n",
      " '85           chinese_cabbage    166\\n'\n",
      " '86                     chive   1333\\n'\n",
      " '87                     cider   1132\\n'\n",
      " '88                  cilantro   2473\\n'\n",
      " '89                  cinnamon   5593\\n'\n",
      " '90                    citrus    167\\n'\n",
      " '91               citrus_peel      4\\n'\n",
      " '92                      clam    476\\n'\n",
      " '93                     clove     10\\n'\n",
      " '94                     cocoa   4798\\n'\n",
      " '95                   coconut   1801\\n'\n",
      " '96               coconut_oil     17\\n'\n",
      " '97                       cod    180\\n'\n",
      " '98                    coffee    719\\n'\n",
      " '99                    cognac     67\\n'\n",
      " '100            concord_grape     12\\n'\n",
      " '101                condiment      9\\n'\n",
      " '102                coriander   1647\\n'\n",
      " '103                     corn   4828\\n'\n",
      " '104               corn_flake    225\\n'\n",
      " '105                corn_grit    163\\n'\n",
      " '106           cottage_cheese    347\\n'\n",
      " '107                     crab    574\\n'\n",
      " '108                cranberry    920\\n'\n",
      " '109                    cream  10170\\n'\n",
      " '110             cream_cheese   2840\\n'\n",
      " '111                 cucumber   1895\\n'\n",
      " '112                    cumin   3274\\n'\n",
      " '113               cured_pork    315\\n'\n",
      " '114                  currant    241\\n'\n",
      " '115                     date    377\\n'\n",
      " '116                     dill   1105\\n'\n",
      " '117                   durian      0\\n'\n",
      " '118                      eel     20\\n'\n",
      " '119                      egg  21022\\n'\n",
      " '120               egg_noodle    317\\n'\n",
      " '121               elderberry      5\\n'\n",
      " '122          emmental_cheese      1\\n'\n",
      " '123                   endive    115\\n'\n",
      " '124                enokidake    106\\n'\n",
      " '125                   fennel    912\\n'\n",
      " '126                fenugreek    924\\n'\n",
      " '127              feta_cheese    623\\n'\n",
      " '128                      fig    139\\n'\n",
      " '129                     fish   2110\\n'\n",
      " '130                   flower     32\\n'\n",
      " '131              frankfurter     37\\n'\n",
      " '132                    fruit    479\\n'\n",
      " '133                  galanga     49\\n'\n",
      " '134                 gardenia      9\\n'\n",
      " '135                   garlic  17351\\n'\n",
      " '136                  gelatin   1417\\n'\n",
      " '137                 geranium      1\\n'\n",
      " '138                      gin     68\\n'\n",
      " '139                   ginger   4358\\n'\n",
      " '140              goat_cheese    260\\n'\n",
      " '141                    grape    346\\n'\n",
      " '142             grape_brandy      8\\n'\n",
      " '143              grape_juice    824\\n'\n",
      " '144               grapefruit    121\\n'\n",
      " '145        green_bell_pepper   2582\\n'\n",
      " '146                green_tea     35\\n'\n",
      " '147           gruyere_cheese     45\\n'\n",
      " '148                    guava     13\\n'\n",
      " '149                  haddock     31\\n'\n",
      " '150                      ham   1300\\n'\n",
      " '151                 hazelnut    284\\n'\n",
      " '152                  herring     10\\n'\n",
      " '153               holy_basil      3\\n'\n",
      " '154                    honey   2551\\n'\n",
      " '155                      hop      3\\n'\n",
      " '156              horseradish    396\\n'\n",
      " '157              huckleberry     10\\n'\n",
      " '158             jamaican_rum      1\\n'\n",
      " '159            japanese_plum     13\\n'\n",
      " '160                  jasmine      8\\n'\n",
      " '161              jasmine_tea      2\\n'\n",
      " '162            juniper_berry     33\\n'\n",
      " '163              kaffir_lime      1\\n'\n",
      " '164                     kale    100\\n'\n",
      " '165              katsuobushi     63\\n'\n",
      " '166                     kelp    179\\n'\n",
      " '167              kidney_bean    442\\n'\n",
      " '168                     kiwi    109\\n'\n",
      " '169                 kohlrabi      6\\n'\n",
      " '170                  kumquat     33\\n'\n",
      " '171                     lamb    482\\n'\n",
      " '172                     lard   3051\\n'\n",
      " '173                   laurel      2\\n'\n",
      " '174                 lavender     62\\n'\n",
      " '175                     leaf      9\\n'\n",
      " '176                     leek    422\\n'\n",
      " '177                    lemon   3043\\n'\n",
      " '178              lemon_juice   5065\\n'\n",
      " '179               lemon_peel    729\\n'\n",
      " '180               lemongrass    217\\n'\n",
      " '181                   lentil    247\\n'\n",
      " '182                  lettuce   1206\\n'\n",
      " '183                 licorice     21\\n'\n",
      " '184         lilac_flower_oil      1\\n'\n",
      " '185                lima_bean    149\\n'\n",
      " '186                     lime   1160\\n'\n",
      " '187               lime_juice   1618\\n'\n",
      " '188            lime_peel_oil    108\\n'\n",
      " '189              lingonberry      9\\n'\n",
      " '190                   litchi     12\\n'\n",
      " '191                    liver     42\\n'\n",
      " '192                  lobster    131\\n'\n",
      " '193              long_pepper      2\\n'\n",
      " '194                   lovage    142\\n'\n",
      " '195            macadamia_nut    102\\n'\n",
      " '196                 macaroni   3115\\n'\n",
      " '197                     mace    117\\n'\n",
      " '198                 mackerel     44\\n'\n",
      " '199                     malt     37\\n'\n",
      " '200                 mandarin    279\\n'\n",
      " '201            mandarin_peel     15\\n'\n",
      " '202                    mango    418\\n'\n",
      " '203              maple_syrup    478\\n'\n",
      " '204                 marjoram    527\\n'\n",
      " '205                     mate      1\\n'\n",
      " '206                matsutake     57\\n'\n",
      " '207                     meat    987\\n'\n",
      " '208                    melon    163\\n'\n",
      " '209                     milk  12869\\n'\n",
      " '210                 milk_fat    959\\n'\n",
      " '211                     mint   1012\\n'\n",
      " '212        mozzarella_cheese   1288\\n'\n",
      " '213                mung_bean     24\\n'\n",
      " '214           munster_cheese     27\\n'\n",
      " '215             muscat_grape      1\\n'\n",
      " '216                 mushroom   3370\\n'\n",
      " '217                   mussel    168\\n'\n",
      " '218                  mustard   4119\\n'\n",
      " '219                   mutton      3\\n'\n",
      " '220                nectarine     51\\n'\n",
      " '221                     nira     67\\n'\n",
      " '222                      nut   1255\\n'\n",
      " '223                   nutmeg   2506\\n'\n",
      " '224                      oat   1265\\n'\n",
      " '225                  oatmeal     61\\n'\n",
      " '226                  octopus     45\\n'\n",
      " '227                     okra    102\\n'\n",
      " '228                    olive   1798\\n'\n",
      " '229                olive_oil   9874\\n'\n",
      " '230                    onion  18078\\n'\n",
      " '231                   orange   1724\\n'\n",
      " '232            orange_flower     17\\n'\n",
      " '233             orange_juice   1726\\n'\n",
      " '234              orange_peel    596\\n'\n",
      " '235                  oregano   3180\\n'\n",
      " '236                     ouzo      9\\n'\n",
      " '237                   oyster    406\\n'\n",
      " '238                     palm     46\\n'\n",
      " '239                   papaya     57\\n'\n",
      " '240          parmesan_cheese   3173\\n'\n",
      " '241                  parsley   5550\\n'\n",
      " '242                  parsnip    139\\n'\n",
      " '243            passion_fruit     20\\n'\n",
      " '244                      pea   1180\\n'\n",
      " '245                    peach    531\\n'\n",
      " '246                   peanut    509\\n'\n",
      " '247            peanut_butter   1014\\n'\n",
      " '248               peanut_oil    308\\n'\n",
      " '249                     pear    484\\n'\n",
      " '250              pear_brandy     11\\n'\n",
      " '251                    pecan   2176\\n'\n",
      " '252              pelargonium      1\\n'\n",
      " '253                   pepper   9230\\n'\n",
      " '254               peppermint    142\\n'\n",
      " '255           peppermint_oil      8\\n'\n",
      " '256                  pimenta      2\\n'\n",
      " '257                  pimento    270\\n'\n",
      " '258                pineapple   1638\\n'\n",
      " '259                pistachio    219\\n'\n",
      " '260                     plum    288\\n'\n",
      " '261                  popcorn     97\\n'\n",
      " '262                  porcini    106\\n'\n",
      " '263                     pork   2056\\n'\n",
      " '264               pork_liver      5\\n'\n",
      " '265             pork_sausage   1369\\n'\n",
      " '266                port_wine     49\\n'\n",
      " '267                   potato   3528\\n'\n",
      " '268              potato_chip     65\\n'\n",
      " '269                    prawn     24\\n'\n",
      " '270             prickly_pear     20\\n'\n",
      " '271         provolone_cheese    168\\n'\n",
      " '272                  pumpkin    803\\n'\n",
      " '273                   quince     29\\n'\n",
      " '274                   radish    525\\n'\n",
      " '275                   raisin   1889\\n'\n",
      " '276                 rapeseed      3\\n'\n",
      " '277                raspberry    784\\n'\n",
      " '278                 raw_beef      2\\n'\n",
      " '279                red_algae      2\\n'\n",
      " '280                 red_bean     33\\n'\n",
      " '281          red_kidney_bean     59\\n'\n",
      " '282                 red_wine   1395\\n'\n",
      " '283                  rhubarb    169\\n'\n",
      " '284                     rice   3856\\n'\n",
      " '285           roasted_almond      3\\n'\n",
      " '286             roasted_beef    227\\n'\n",
      " '287         roasted_hazelnut      1\\n'\n",
      " '288             roasted_meat     15\\n'\n",
      " '289              roasted_nut      1\\n'\n",
      " '290           roasted_peanut    202\\n'\n",
      " '291            roasted_pecan      1\\n'\n",
      " '292             roasted_pork    124\\n'\n",
      " '293      roasted_sesame_seed    593\\n'\n",
      " '294            romano_cheese    275\\n'\n",
      " '295                     root    101\\n'\n",
      " '296         roquefort_cheese     23\\n'\n",
      " '297                     rose     56\\n'\n",
      " '298                 rosemary   1892\\n'\n",
      " '299                      rum    599\\n'\n",
      " '300                 rutabaga     34\\n'\n",
      " '301                rye_bread     92\\n'\n",
      " '302                rye_flour    131\\n'\n",
      " '303                  saffron    234\\n'\n",
      " '304                     sage    904\\n'\n",
      " '305                     sake    680\\n'\n",
      " '306                   salmon    451\\n'\n",
      " '307               salmon_roe     15\\n'\n",
      " '308                sassafras     18\\n'\n",
      " '309               sauerkraut    185\\n'\n",
      " '310                   savory    128\\n'\n",
      " '311                 scallion   4782\\n'\n",
      " '312                  scallop    300\\n'\n",
      " '313                sea_algae      4\\n'\n",
      " '314                  seaweed    215\\n'\n",
      " '315                     seed   1340\\n'\n",
      " '316               sesame_oil   1693\\n'\n",
      " '317              sesame_seed    778\\n'\n",
      " '318                  shallot   1304\\n'\n",
      " '319             sheep_cheese      2\\n'\n",
      " '320                shellfish     27\\n'\n",
      " '321                   sherry    706\\n'\n",
      " '322                 shiitake    595\\n'\n",
      " '323                   shrimp   1679\\n'\n",
      " '324                    smoke    463\\n'\n",
      " '325              smoked_fish      6\\n'\n",
      " '326            smoked_salmon    100\\n'\n",
      " '327           smoked_sausage    268\\n'\n",
      " '328              sour_cherry     50\\n'\n",
      " '329                sour_milk     46\\n'\n",
      " '330                soy_sauce   3799\\n'\n",
      " '331                  soybean   1195\\n'\n",
      " '332              soybean_oil      2\\n'\n",
      " '333                spearmint      6\\n'\n",
      " '334                   squash    572\\n'\n",
      " '335                    squid    238\\n'\n",
      " '336               star_anise    131\\n'\n",
      " '337                   starch   2731\\n'\n",
      " '338               strawberry   1080\\n'\n",
      " '339           strawberry_jam      1\\n'\n",
      " '340         strawberry_juice      2\\n'\n",
      " '341          sturgeon_caviar      1\\n'\n",
      " '342                    sumac     11\\n'\n",
      " '343            sunflower_oil      8\\n'\n",
      " '344             sweet_potato    529\\n'\n",
      " '345             swiss_cheese    519\\n'\n",
      " '346           tabasco_pepper    976\\n'\n",
      " '347                 tamarind   1672\\n'\n",
      " '348                tangerine     52\\n'\n",
      " '349                 tarragon    478\\n'\n",
      " '350                      tea    108\\n'\n",
      " '351                  tequila    142\\n'\n",
      " '352              thai_pepper    136\\n'\n",
      " '353                    thyme   3043\\n'\n",
      " '354                   tomato   9920\\n'\n",
      " '355             tomato_juice    176\\n'\n",
      " '356                  truffle     52\\n'\n",
      " '357                     tuna    463\\n'\n",
      " '358                   turkey    900\\n'\n",
      " '359                 turmeric   1290\\n'\n",
      " '360                   turnip    188\\n'\n",
      " '361                  vanilla   9009\\n'\n",
      " '362                     veal    197\\n'\n",
      " '363                vegetable   1703\\n'\n",
      " '364            vegetable_oil  11103\\n'\n",
      " '365                  vinegar   8060\\n'\n",
      " '366                   violet      5\\n'\n",
      " '367                   walnut   2728\\n'\n",
      " '368                   wasabi    135\\n'\n",
      " '369               watercress    150\\n'\n",
      " '370               watermelon    110\\n'\n",
      " '371                    wheat  20775\\n'\n",
      " '372              wheat_bread     82\\n'\n",
      " '373                  whiskey    148\\n'\n",
      " '374              white_bread    370\\n'\n",
      " '375               white_wine   2205\\n'\n",
      " '376  whole_grain_wheat_flour    731\\n'\n",
      " '377                     wine   1026\\n'\n",
      " '378                     wood     33\\n'\n",
      " '379                      yam     85\\n'\n",
      " '380                    yeast   3385\\n'\n",
      " '381                   yogurt   1033\\n'\n",
      " '382                 zucchini   1102')\n"
     ]
    }
   ],
   "source": [
    "# define each column as a pandas series\n",
    "ingredient = pd.Series(ing.index.values, index = np.arange(len(ing)))\n",
    "count = pd.Series(list(ing), index = np.arange(len(ing)))\n",
    "\n",
    "# create the dataframe\n",
    "ing_df = pd.DataFrame(dict(ingredient = ingredient, count = count))\n",
    "ing_df = ing_df[[\"ingredient\", \"count\"]]\n",
    "p(ing_df.to_string())"
   ],
   "metadata": {
    "collapsed": false,
    "ExecuteTime": {
     "end_time": "2024-03-08T09:55:03.699691Z",
     "start_time": "2024-03-08T09:55:03.685846Z"
    }
   },
   "execution_count": 38
  },
  {
   "cell_type": "code",
   "outputs": [
    {
     "name": "stdout",
     "output_type": "stream",
     "text": [
      "           ingredient  count\n",
      "0                 egg  21022\n",
      "1               wheat  20775\n",
      "2              butter  20715\n",
      "3               onion  18078\n",
      "4              garlic  17351\n",
      "..                ...    ...\n",
      "378  lilac_flower_oil      1\n",
      "379    strawberry_jam      1\n",
      "380          geranium      1\n",
      "381          angelica      1\n",
      "382            durian      0\n",
      "\n",
      "[383 rows x 2 columns]\n"
     ]
    }
   ],
   "source": [
    "ing_df.sort_values([\"count\"], ascending=False, inplace=True)\n",
    "ing_df.reset_index(inplace=True, drop=True)\n",
    "\n",
    "p(ing_df)"
   ],
   "metadata": {
    "collapsed": false,
    "ExecuteTime": {
     "end_time": "2024-03-08T09:55:03.706495Z",
     "start_time": "2024-03-08T09:55:03.701102Z"
    }
   },
   "execution_count": 39
  },
  {
   "cell_type": "code",
   "outputs": [
    {
     "data": {
      "text/plain": "                almond  angelica     anise  anise_seed     apple  \\\ncuisine                                                            \nafrican       0.156522  0.000000  0.000000    0.000000  0.034783   \namerican      0.040598  0.000025  0.003014    0.000573  0.052055   \nasian         0.007544  0.000000  0.000838    0.002515  0.012573   \ncajun_creole  0.000000  0.000000  0.000000    0.000000  0.006849   \ncanadian      0.036176  0.000000  0.000000    0.000000  0.036176   \n\n              apple_brandy   apricot  armagnac  artemisia  artichoke  ...  \\\ncuisine                                                               ...   \nafrican           0.000000  0.069565    0.0000        0.0   0.000000  ...   \namerican          0.000623  0.011308    0.0001        0.0   0.006351  ...   \nasian             0.000000  0.005029    0.0000        0.0   0.000000  ...   \ncajun_creole      0.000000  0.000000    0.0000        0.0   0.000000  ...   \ncanadian          0.000000  0.002584    0.0000        0.0   0.001292  ...   \n\n               whiskey  white_bread  white_wine  whole_grain_wheat_flour  \\\ncuisine                                                                    \nafrican       0.000000     0.008696    0.043478                 0.008696   \namerican      0.002964     0.006874    0.030809                 0.014819   \nasian         0.000838     0.001676    0.038558                 0.001676   \ncajun_creole  0.000000     0.006849    0.082192                 0.000000   \ncanadian      0.002584     0.003876    0.029716                 0.020672   \n\n                  wine      wood       yam     yeast    yogurt  zucchini  \ncuisine                                                                   \nafrican       0.017391  0.000000  0.008696  0.017391  0.000000  0.034783  \namerican      0.011009  0.000672  0.001445  0.068219  0.016912  0.018630  \nasian         0.124895  0.000000  0.001676  0.004191  0.010897  0.011735  \ncajun_creole  0.191781  0.000000  0.006849  0.034247  0.006849  0.000000  \ncanadian      0.003876  0.000000  0.001292  0.067183  0.019380  0.011628  \n\n[5 rows x 383 columns]",
      "text/html": "<div>\n<style scoped>\n    .dataframe tbody tr th:only-of-type {\n        vertical-align: middle;\n    }\n\n    .dataframe tbody tr th {\n        vertical-align: top;\n    }\n\n    .dataframe thead th {\n        text-align: right;\n    }\n</style>\n<table border=\"1\" class=\"dataframe\">\n  <thead>\n    <tr style=\"text-align: right;\">\n      <th></th>\n      <th>almond</th>\n      <th>angelica</th>\n      <th>anise</th>\n      <th>anise_seed</th>\n      <th>apple</th>\n      <th>apple_brandy</th>\n      <th>apricot</th>\n      <th>armagnac</th>\n      <th>artemisia</th>\n      <th>artichoke</th>\n      <th>...</th>\n      <th>whiskey</th>\n      <th>white_bread</th>\n      <th>white_wine</th>\n      <th>whole_grain_wheat_flour</th>\n      <th>wine</th>\n      <th>wood</th>\n      <th>yam</th>\n      <th>yeast</th>\n      <th>yogurt</th>\n      <th>zucchini</th>\n    </tr>\n    <tr>\n      <th>cuisine</th>\n      <th></th>\n      <th></th>\n      <th></th>\n      <th></th>\n      <th></th>\n      <th></th>\n      <th></th>\n      <th></th>\n      <th></th>\n      <th></th>\n      <th></th>\n      <th></th>\n      <th></th>\n      <th></th>\n      <th></th>\n      <th></th>\n      <th></th>\n      <th></th>\n      <th></th>\n      <th></th>\n      <th></th>\n    </tr>\n  </thead>\n  <tbody>\n    <tr>\n      <th>african</th>\n      <td>0.156522</td>\n      <td>0.000000</td>\n      <td>0.000000</td>\n      <td>0.000000</td>\n      <td>0.034783</td>\n      <td>0.000000</td>\n      <td>0.069565</td>\n      <td>0.0000</td>\n      <td>0.0</td>\n      <td>0.000000</td>\n      <td>...</td>\n      <td>0.000000</td>\n      <td>0.008696</td>\n      <td>0.043478</td>\n      <td>0.008696</td>\n      <td>0.017391</td>\n      <td>0.000000</td>\n      <td>0.008696</td>\n      <td>0.017391</td>\n      <td>0.000000</td>\n      <td>0.034783</td>\n    </tr>\n    <tr>\n      <th>american</th>\n      <td>0.040598</td>\n      <td>0.000025</td>\n      <td>0.003014</td>\n      <td>0.000573</td>\n      <td>0.052055</td>\n      <td>0.000623</td>\n      <td>0.011308</td>\n      <td>0.0001</td>\n      <td>0.0</td>\n      <td>0.006351</td>\n      <td>...</td>\n      <td>0.002964</td>\n      <td>0.006874</td>\n      <td>0.030809</td>\n      <td>0.014819</td>\n      <td>0.011009</td>\n      <td>0.000672</td>\n      <td>0.001445</td>\n      <td>0.068219</td>\n      <td>0.016912</td>\n      <td>0.018630</td>\n    </tr>\n    <tr>\n      <th>asian</th>\n      <td>0.007544</td>\n      <td>0.000000</td>\n      <td>0.000838</td>\n      <td>0.002515</td>\n      <td>0.012573</td>\n      <td>0.000000</td>\n      <td>0.005029</td>\n      <td>0.0000</td>\n      <td>0.0</td>\n      <td>0.000000</td>\n      <td>...</td>\n      <td>0.000838</td>\n      <td>0.001676</td>\n      <td>0.038558</td>\n      <td>0.001676</td>\n      <td>0.124895</td>\n      <td>0.000000</td>\n      <td>0.001676</td>\n      <td>0.004191</td>\n      <td>0.010897</td>\n      <td>0.011735</td>\n    </tr>\n    <tr>\n      <th>cajun_creole</th>\n      <td>0.000000</td>\n      <td>0.000000</td>\n      <td>0.000000</td>\n      <td>0.000000</td>\n      <td>0.006849</td>\n      <td>0.000000</td>\n      <td>0.000000</td>\n      <td>0.0000</td>\n      <td>0.0</td>\n      <td>0.000000</td>\n      <td>...</td>\n      <td>0.000000</td>\n      <td>0.006849</td>\n      <td>0.082192</td>\n      <td>0.000000</td>\n      <td>0.191781</td>\n      <td>0.000000</td>\n      <td>0.006849</td>\n      <td>0.034247</td>\n      <td>0.006849</td>\n      <td>0.000000</td>\n    </tr>\n    <tr>\n      <th>canadian</th>\n      <td>0.036176</td>\n      <td>0.000000</td>\n      <td>0.000000</td>\n      <td>0.000000</td>\n      <td>0.036176</td>\n      <td>0.000000</td>\n      <td>0.002584</td>\n      <td>0.0000</td>\n      <td>0.0</td>\n      <td>0.001292</td>\n      <td>...</td>\n      <td>0.002584</td>\n      <td>0.003876</td>\n      <td>0.029716</td>\n      <td>0.020672</td>\n      <td>0.003876</td>\n      <td>0.000000</td>\n      <td>0.001292</td>\n      <td>0.067183</td>\n      <td>0.019380</td>\n      <td>0.011628</td>\n    </tr>\n  </tbody>\n</table>\n<p>5 rows × 383 columns</p>\n</div>"
     },
     "execution_count": 40,
     "metadata": {},
     "output_type": "execute_result"
    }
   ],
   "source": [
    "cuisines = recipes.groupby(\"cuisine\").mean()\n",
    "cuisines.head()"
   ],
   "metadata": {
    "collapsed": false,
    "ExecuteTime": {
     "end_time": "2024-03-08T09:55:40.675274Z",
     "start_time": "2024-03-08T09:55:40.423699Z"
    }
   },
   "execution_count": 40
  },
  {
   "cell_type": "code",
   "outputs": [
    {
     "name": "stdout",
     "output_type": "stream",
     "text": [
      "AFRICAN\n",
      "onion (53%) olive_oil (52%) garlic (49%) cumin (42%) \n",
      "\n",
      "AMERICAN\n",
      "butter (41%) egg (40%) wheat (39%) onion (29%) \n",
      "\n",
      "ASIAN\n",
      "soy_sauce (49%) ginger (48%) garlic (47%) rice (41%) \n",
      "\n",
      "CAJUN_CREOLE\n",
      "onion (69%) cayenne (56%) garlic (48%) butter (36%) \n",
      "\n",
      "CANADIAN\n",
      "wheat (39%) butter (38%) egg (35%) onion (34%) \n",
      "\n",
      "CARIBBEAN\n",
      "onion (51%) garlic (50%) vegetable_oil (31%) black_pepper (31%) \n",
      "\n",
      "CENTRAL_SOUTHAMERICAN\n",
      "garlic (56%) onion (54%) cayenne (51%) tomato (41%) \n",
      "\n",
      "CHINESE\n",
      "soy_sauce (68%) ginger (53%) garlic (52%) scallion (48%) \n",
      "\n",
      "EAST_ASIAN\n",
      "garlic (55%) soy_sauce (50%) scallion (49%) cayenne (47%) \n",
      "\n",
      "EASTERN-EUROPE\n",
      "wheat (53%) egg (52%) butter (48%) onion (45%) \n",
      "\n",
      "EASTERNEUROPEAN_RUSSIAN\n",
      "butter (60%) egg (50%) wheat (49%) onion (38%) \n",
      "\n",
      "ENGLISH_SCOTTISH\n",
      "butter (67%) wheat (62%) egg (53%) cream (41%) \n",
      "\n",
      "FRENCH\n",
      "butter (50%) egg (44%) wheat (37%) olive_oil (27%) \n",
      "\n",
      "GERMAN\n",
      "wheat (64%) egg (60%) butter (47%) onion (34%) \n",
      "\n",
      "GREEK\n",
      "olive_oil (76%) garlic (44%) onion (36%) lemon_juice (33%) \n",
      "\n",
      "INDIAN\n",
      "cumin (60%) turmeric (50%) onion (49%) coriander (47%) \n",
      "\n",
      "ITALIAN\n",
      "olive_oil (60%) garlic (52%) tomato (39%) onion (32%) \n",
      "\n",
      "JAPANESE\n",
      "soy_sauce (56%) rice (44%) vinegar (36%) vegetable_oil (35%) \n",
      "\n",
      "JEWISH\n",
      "egg (59%) wheat (48%) butter (30%) onion (30%) \n",
      "\n",
      "KOREAN\n",
      "garlic (59%) scallion (52%) cayenne (51%) soy_sauce (49%) \n",
      "\n",
      "MEDITERRANEAN\n",
      "olive_oil (79%) garlic (50%) onion (38%) tomato (34%) \n",
      "\n",
      "MEXICAN\n",
      "cayenne (73%) onion (68%) garlic (62%) tomato (58%) \n",
      "\n",
      "MIDDLEEASTERN\n",
      "olive_oil (60%) garlic (46%) wheat (37%) lemon_juice (35%) \n",
      "\n",
      "MOROCCAN\n",
      "olive_oil (72%) cumin (54%) onion (49%) garlic (45%) \n",
      "\n",
      "NORTH-AFRICAN\n",
      "onion (55%) olive_oil (50%) cumin (48%) garlic (46%) \n",
      "\n",
      "SCANDINAVIAN\n",
      "butter (64%) wheat (57%) egg (52%) cream (28%) \n",
      "\n",
      "SOUTH-AMERICA\n",
      "onion (42%) garlic (36%) egg (34%) milk (31%) \n",
      "\n",
      "SOUTHERN_SOULFOOD\n",
      "butter (57%) wheat (48%) egg (41%) corn (29%) \n",
      "\n",
      "SOUTHWESTERN\n",
      "cayenne (81%) garlic (62%) onion (61%) cilantro (51%) \n",
      "\n",
      "SPANISH_PORTUGUESE\n",
      "olive_oil (57%) garlic (54%) onion (46%) bell_pepper (35%) \n",
      "\n",
      "THAI\n",
      "garlic (59%) fish (52%) cayenne (47%) cilantro (41%) \n",
      "\n",
      "UK-AND-IRISH\n",
      "butter (59%) wheat (58%) egg (48%) milk (33%) \n",
      "\n",
      "VIETNAMESE\n",
      "fish (73%) garlic (72%) rice (49%) cilantro (43%) \n",
      "\n",
      "WESTERN\n",
      "egg (51%) wheat (46%) butter (46%) black_pepper (36%) \n"
     ]
    }
   ],
   "source": [
    "num_ingredients = 4 # define number of top ingredients to print\n",
    "\n",
    "# define a function that prints the top ingredients for each cuisine\n",
    "def print_top_ingredients(row):\n",
    "    print(row.name.upper())\n",
    "    row_sorted = row.sort_values(ascending=False)*100\n",
    "    top_ingredients = list(row_sorted.index.values)[0:num_ingredients]\n",
    "    row_sorted = list(row_sorted)[0:num_ingredients]\n",
    "\n",
    "    for ind, ingredient in enumerate(top_ingredients):\n",
    "        print(\"%s (%d%%)\" % (ingredient, row_sorted[ind]), end=' ')\n",
    "    print(\"\\n\")\n",
    "\n",
    "# apply function to cuisines dataframe\n",
    "create_cuisines_profiles = cuisines.apply(print_top_ingredients, axis=1)"
   ],
   "metadata": {
    "collapsed": false,
    "ExecuteTime": {
     "end_time": "2024-03-08T09:56:08.502506Z",
     "start_time": "2024-03-08T09:56:08.477764Z"
    }
   },
   "execution_count": 41
  }
 ],
 "metadata": {
  "language_info": {
   "name": "python"
  },
  "kernelspec": {
   "name": "python3",
   "language": "python",
   "display_name": "Python 3 (ipykernel)"
  }
 },
 "nbformat": 4,
 "nbformat_minor": 2
}
